{
 "cells": [
  {
   "cell_type": "code",
   "execution_count": 13,
   "id": "04bcabc6-3b91-47e9-b779-33435be1c49c",
   "metadata": {},
   "outputs": [
    {
     "name": "stdout",
     "output_type": "stream",
     "text": [
      "I totally understand. It can be really frustrating when you feel like you're well-prepared, but your nerves get the better of you during the test.\n",
      "\n",
      "Can you tell me more about what happened? What was going through your mind when you started to feel panicked? Was it a specific question that triggered it, or was it more of a general feeling of anxiety?\n",
      "\n",
      "Also, have you experienced test anxiety before, or was this a one-time thing?None"
     ]
    }
   ],
   "source": [
    "import os\n",
    "from groq import AsyncGroq\n",
    "from IPython.display import display, Markdown\n",
    "import config\n",
    "\n",
    "client = AsyncGroq(\n",
    "    api_key = config.apiToken(),\n",
    ")\n",
    "\n",
    "async def main():\n",
    "    chat_streaming = await client.chat.completions.create(\n",
    "        messages=[\n",
    "            {\"role\": \"system\", \"content\": \"You are a psychiatrist helping young minds\"}, \n",
    "           {                \"role\": \"user\",                \"content\": \"I panicked during the test, even though I knew everything on the test paper.\",            }, \n",
    "        ],\n",
    "        model=\"llama3-70b-8192\",\n",
    "        temperature=0.3, \n",
    "        max_tokens=360, \n",
    "        top_p=1, \n",
    "        stop=None, \n",
    "        stream=True,\n",
    "    )\n",
    "    async for chunk in chat_streaming: \n",
    "            print(chunk.choices[0].delta.content, end=\"\")\n",
    "\n",
    "await main()"
   ]
  },
  {
   "cell_type": "code",
   "execution_count": null,
   "id": "012f9683-0a69-408e-838c-dd09ff3e6b35",
   "metadata": {},
   "outputs": [],
   "source": []
  }
 ],
 "metadata": {
  "kernelspec": {
   "display_name": "Python 3 (ipykernel)",
   "language": "python",
   "name": "python3"
  },
  "language_info": {
   "codemirror_mode": {
    "name": "ipython",
    "version": 3
   },
   "file_extension": ".py",
   "mimetype": "text/x-python",
   "name": "python",
   "nbconvert_exporter": "python",
   "pygments_lexer": "ipython3",
   "version": "3.9.6"
  }
 },
 "nbformat": 4,
 "nbformat_minor": 5
}
